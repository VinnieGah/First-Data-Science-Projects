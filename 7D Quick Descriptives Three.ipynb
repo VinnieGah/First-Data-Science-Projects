{
 "cells": [
  {
   "cell_type": "markdown",
   "id": "61802c9c-f1e3-46d2-b533-6d2bc05f9a47",
   "metadata": {
    "deletable": false,
    "editable": false
   },
   "source": [
    "# <font face = 'Impact' color = '#FFAEBC' > Getting Ready with our Third Mini-Project <font/>\n",
    "#### <font face = 'Times New Roman' color = '#A16AE8'> Author and Trainer: Paolo Hilado MSc. (Data Science)<font/>\n",
    "In this notebook, we will be importing packages and use them to load and explore data sets. We will be using the pandas package to load datasets and qdesc to explore both categorical and numerical variables. Functions to be used include pd.read_excel, pd.read_csv, head, qd.desc, qd.normcheck_dashboard, qd.freqdist_a, and qd.freqdist_to_excel."
   ]
  },
  {
   "cell_type": "markdown",
   "id": "1db8aed6-00a2-45ad-907b-27c164811f20",
   "metadata": {},
   "source": [
    "# Name of Participant:"
   ]
  },
  {
   "cell_type": "markdown",
   "id": "2468c2bf-b06d-4ba0-b343-89ad2c199f7d",
   "metadata": {},
   "source": [
    "# <font face = 'Impact' color = '#FFAEBC' > Exploring Job Satisfaction and Employee Performance <font/> "
   ]
  },
  {
   "cell_type": "code",
   "execution_count": null,
   "id": "3fd34bad-c5f8-4fd2-817d-488a2be081c7",
   "metadata": {},
   "outputs": [],
   "source": [
    "# Importing the necessary packages for us to use certain functions.\n",
    "import pandas as pd\n",
    "import numpy as np\n",
    "import qdesc as qd\n",
    "import researchpy as rp"
   ]
  },
  {
   "cell_type": "code",
   "execution_count": null,
   "id": "8a063c7d-3ac7-4c74-ba65-433b6d75c968",
   "metadata": {},
   "outputs": [],
   "source": [
    "# Loading a data set and storing it into a variable.\n",
    "df1 = pd.read_excel(\"JobSatPerf.xlsx\")\n",
    "# Checking the first three rows of the data set.\n",
    "df1.head(5)"
   ]
  },
  {
   "cell_type": "code",
   "execution_count": null,
   "id": "183a539d-c8d9-4957-b3ba-0813250cd806",
   "metadata": {},
   "outputs": [],
   "source": [
    "# Default way of doing descriptives in python.\n",
    "df1.describe().T"
   ]
  },
  {
   "cell_type": "code",
   "execution_count": null,
   "id": "9918b1bf-3c35-443c-89bf-f22d7131425f",
   "metadata": {},
   "outputs": [],
   "source": [
    "# Using the desc function from the qdesc package to perform descriptive analysis.\n",
    "qd.desc(df1)"
   ]
  },
  {
   "cell_type": "code",
   "execution_count": null,
   "id": "f481ca9f-5898-4947-a196-59f7354d54f5",
   "metadata": {},
   "outputs": [],
   "source": [
    "# Saving our results to a spreadsheet file.\n",
    "res = qd.desc(df1)\n",
    "res.to_excel(\"JobSatPerfDescriptives.xlsx\")"
   ]
  },
  {
   "cell_type": "code",
   "execution_count": null,
   "id": "5818739d-be0d-4c1b-8d06-190f1f6a9a76",
   "metadata": {},
   "outputs": [],
   "source": [
    "# Generate descriptive analysis for job satisfaction when grouped by sex.\n",
    "qd.grp_desc(df1, 'JobSat', 'Sex')"
   ]
  },
  {
   "cell_type": "code",
   "execution_count": null,
   "id": "8d835964-8ddc-412b-8669-f097ebe6f55e",
   "metadata": {},
   "outputs": [],
   "source": [
    "# Generate descriptive analysis for employee performance when grouped by sex.\n",
    "qd.grp_desc(df1, 'EmpPerf', 'Sex')"
   ]
  },
  {
   "cell_type": "code",
   "execution_count": null,
   "id": "34896088-d050-4e55-83c8-447ce34f7ea5",
   "metadata": {},
   "outputs": [],
   "source": [
    "# Using the desc function from the qdesc package to explore the data for assumption of normality.\n",
    "qd.normcheck_dashboard(df1)"
   ]
  },
  {
   "cell_type": "code",
   "execution_count": null,
   "id": "9b8fca6a-3d26-46f2-85cc-3ed991454c1a",
   "metadata": {},
   "outputs": [],
   "source": [
    "# Slicing the data frame to have a subset data for sex.\n",
    "Male = df1[df1['Sex'] == 'Male'] # Slicing the data frame to only include the male.\n",
    "Male.head() # checking out the data subset."
   ]
  },
  {
   "cell_type": "code",
   "execution_count": null,
   "id": "8ab64f04-a29b-4082-b24d-33d023718b3e",
   "metadata": {},
   "outputs": [],
   "source": [
    "# Confirming that the subset is all males.\n",
    "np.unique(Male.Sex)"
   ]
  },
  {
   "cell_type": "code",
   "execution_count": null,
   "id": "d1bd5498-6442-41cd-abdf-cec7016d31e2",
   "metadata": {},
   "outputs": [],
   "source": [
    "# Using the desc function from the qdesc package to explore the data for assumption of normality.\n",
    "qd.normcheck_dashboard(Male)"
   ]
  },
  {
   "cell_type": "code",
   "execution_count": null,
   "id": "805aae9b-6564-4601-902b-28b06b1d4488",
   "metadata": {},
   "outputs": [],
   "source": [
    "# Slicing the data frame to have a subset data for females.\n",
    "Female = df1[df1['Sex'] == 'Female'] # Slicing the data frame to only include the females.\n",
    "Female.head() # checking out the data subset."
   ]
  },
  {
   "cell_type": "code",
   "execution_count": null,
   "id": "13951ed2-719d-45d9-b7fb-127cf3addff6",
   "metadata": {},
   "outputs": [],
   "source": [
    "# Confirming that the subset is all females.\n",
    "np.unique(Female.Sex)"
   ]
  },
  {
   "cell_type": "code",
   "execution_count": null,
   "id": "bc3a988a-e7f9-4940-a276-2381355b1d98",
   "metadata": {},
   "outputs": [],
   "source": [
    "# Using the desc function from the qdesc package to explore the data for assumption of normality.\n",
    "qd.normcheck_dashboard(Female)"
   ]
  },
  {
   "cell_type": "code",
   "execution_count": null,
   "id": "8e3414db-1476-4a0a-be48-ac64a25ff0f5",
   "metadata": {},
   "outputs": [],
   "source": [
    "# Generating a frequency distribution for a specified variable: Sex\n",
    "qd.freqdist(df1, 'Sex')"
   ]
  },
  {
   "cell_type": "code",
   "execution_count": null,
   "id": "c2deb2f0-182e-4854-8ab6-c3f77763b82e",
   "metadata": {},
   "outputs": [],
   "source": [
    "# Generating a frequency distribution but this time have it store in an excel file and organized\n",
    "# on a per sheet basis per categorical feature.\n",
    "qd.freqdist_to_excel(df1, \"JobSatPerfCategorical.xlsx\")"
   ]
  }
 ],
 "metadata": {
  "kernelspec": {
   "display_name": "Python 3 (ipykernel)",
   "language": "python",
   "name": "python3"
  },
  "language_info": {
   "codemirror_mode": {
    "name": "ipython",
    "version": 3
   },
   "file_extension": ".py",
   "mimetype": "text/x-python",
   "name": "python",
   "nbconvert_exporter": "python",
   "pygments_lexer": "ipython3",
   "version": "3.12.7"
  }
 },
 "nbformat": 4,
 "nbformat_minor": 5
}
